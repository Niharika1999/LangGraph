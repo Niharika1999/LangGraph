{
 "cells": [
  {
   "cell_type": "markdown",
   "id": "e1e490c7-ecde-4be2-893c-5788d398c397",
   "metadata": {},
   "source": [
    "considers factors such as credit scores, income, debt-to-income ratios, and employment stability\n",
    "\n",
    "Document Intake Agent\n",
    "Financial Analysis Agent\n",
    "Credit Risk Evaluation Agent\n",
    "Policy Compliance Agent\n",
    "Decision Recommendation Agent"
   ]
  }
 ],
 "metadata": {
  "kernelspec": {
   "display_name": "Python 3 (ipykernel)",
   "language": "python",
   "name": "python3"
  },
  "language_info": {
   "codemirror_mode": {
    "name": "ipython",
    "version": 3
   },
   "file_extension": ".py",
   "mimetype": "text/x-python",
   "name": "python",
   "nbconvert_exporter": "python",
   "pygments_lexer": "ipython3",
   "version": "3.11.2"
  }
 },
 "nbformat": 4,
 "nbformat_minor": 5
}
